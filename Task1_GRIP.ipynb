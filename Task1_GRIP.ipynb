{
  "nbformat": 4,
  "nbformat_minor": 0,
  "metadata": {
    "colab": {
      "name": "Task1_GRIP.ipynb",
      "provenance": [],
      "collapsed_sections": []
    },
    "kernelspec": {
      "name": "python3",
      "display_name": "Python 3"
    }
  },
  "cells": [
    {
      "cell_type": "markdown",
      "metadata": {
        "id": "Myr5aFN3XEks"
      },
      "source": [
        "# **Author**- Sarvesh Pai\r\n",
        "\r\n",
        "*Task1 of Spark Foundation's GRIP Internship program*\r\n",
        "\r\n",
        "**Problem Statement**: Predict the score of a student, if the student studies for 9.25 hours/day\r\n",
        "\r\n",
        "**Domain**: Prediction using Supervised Machine Learning\r\n",
        "\r\n"
      ]
    },
    {
      "cell_type": "code",
      "metadata": {
        "id": "mw22TZQjXMls"
      },
      "source": [
        "import numpy as np\r\n",
        "import pandas as pd\r\n",
        "import matplotlib.pyplot as plt\r\n",
        "\r\n",
        "from sklearn.model_selection import train_test_split\r\n",
        "from sklearn.linear_model import LinearRegression"
      ],
      "execution_count": 8,
      "outputs": []
    },
    {
      "cell_type": "code",
      "metadata": {
        "id": "nv5bpxB9XVUe",
        "colab": {
          "base_uri": "https://localhost:8080/"
        },
        "outputId": "b39e18ee-df15-447c-96aa-be1379b8e381"
      },
      "source": [
        "#Loading and processing\r\n",
        "dataset=pd.read_csv('scores.csv')\r\n",
        "d_hour=dataset.iloc[:, :-1].values\r\n",
        "d_score=dataset.iloc[:, 1].values\r\n",
        "print((d_hour))\r\n",
        "print((d_score))"
      ],
      "execution_count": 9,
      "outputs": [
        {
          "output_type": "stream",
          "text": [
            "[[2.5]\n",
            " [5.1]\n",
            " [3.2]\n",
            " [8.5]\n",
            " [3.5]\n",
            " [1.5]\n",
            " [9.2]\n",
            " [5.5]\n",
            " [8.3]\n",
            " [2.7]\n",
            " [7.7]\n",
            " [5.9]\n",
            " [4.5]\n",
            " [3.3]\n",
            " [1.1]\n",
            " [8.9]\n",
            " [2.5]\n",
            " [1.9]\n",
            " [6.1]\n",
            " [7.4]\n",
            " [2.7]\n",
            " [4.8]\n",
            " [3.8]\n",
            " [6.9]\n",
            " [7.8]]\n",
            "[21 47 27 75 30 20 88 60 81 25 85 62 41 42 17 95 30 24 67 69 30 54 35 76\n",
            " 86]\n"
          ],
          "name": "stdout"
        }
      ]
    },
    {
      "cell_type": "code",
      "metadata": {
        "colab": {
          "base_uri": "https://localhost:8080/",
          "height": 295
        },
        "id": "AxeZXrUcnkIK",
        "outputId": "1a2c0e33-fe1e-455b-a15d-4f6c4adda1a4"
      },
      "source": [
        "#Scatter Plot representation\r\n",
        "plt.scatter(dataset['Hours'], dataset['Scores'])\r\n",
        "plt.title('Hours vs Percentage')\r\n",
        "plt.xlabel('Studied Hours')\r\n",
        "plt.ylabel('Scores')\r\n",
        "plt.show()"
      ],
      "execution_count": 10,
      "outputs": [
        {
          "output_type": "display_data",
          "data": {
            "image/png": "[encoded data removed]",
            "text/plain": [
              "<Figure size 432x288 with 1 Axes>"
            ]
          },
          "metadata": {
            "tags": [],
            "needs_background": "light"
          }
        }
      ]
    },
    {
      "cell_type": "code",
      "metadata": {
        "id": "YsD85YFgaicF"
      },
      "source": [
        "x_train,x_test,y_train,y_test=train_test_split(d_hour,d_score,test_size=0.2,random_state=0)"
      ],
      "execution_count": 11,
      "outputs": []
    },
    {
      "cell_type": "code",
      "metadata": {
        "colab": {
          "base_uri": "https://localhost:8080/"
        },
        "id": "sGKiZ6UrbO9f",
        "outputId": "e735b435-2f39-4ea2-a330-421b5d925bf7"
      },
      "source": [
        "#Building Regression Model\r\n",
        "lin_reg=LinearRegression()\r\n",
        "lin_reg.fit(x_train,y_train)\r\n",
        "y_pred=lin_reg.predict(x_test)\r\n",
        "lin_reg.score(x_test,y_test)\r\n",
        "y_pred=lin_reg.predict(x_test)\r\n",
        "inp=np.array(9.25).reshape(1,-1)\r\n",
        "res=lin_reg.predict(inp)\r\n",
        "print(\"The predicted value of 9.25 hours is {}\".format(res))    #Answer"
      ],
      "execution_count": 12,
      "outputs": [
        {
          "output_type": "stream",
          "text": [
            "The predicted value of 9.25 hours is [93.69173249]\n"
          ],
          "name": "stdout"
        }
      ]
    },
    {
      "cell_type": "code",
      "metadata": {
        "colab": {
          "base_uri": "https://localhost:8080/",
          "height": 761
        },
        "id": "jTeuXh4on3gm",
        "outputId": "0b6b5b4a-7a15-48a6-8d59-fcc100bc8e3e"
      },
      "source": [
        "line = lin_reg.coef_*d_hour+lin_reg.intercept_\r\n",
        "\r\n",
        "# Plotting for the regression data\r\n",
        "plt.scatter(d_hour, d_score)\r\n",
        "plt.plot(d_hour, line,color = 'red');\r\n",
        "plt.show()\r\n",
        "\r\n",
        "plt.scatter(x_train, y_train)\r\n",
        "plt.plot(x_train, lin_reg.predict(x_train),color = 'green');\r\n",
        "plt.show()\r\n",
        "\r\n",
        "plt.scatter(x_test, y_test)\r\n",
        "plt.plot(x_test, lin_reg.predict(x_test),color = 'orange');\r\n",
        "plt.show()\r\n",
        "\r\n"
      ],
      "execution_count": 13,
      "outputs": [
        {
          "output_type": "display_data",
          "data": {
            "image/png": "[encoded data removed]",
            "text/plain": [
              "<Figure size 432x288 with 1 Axes>"
            ]
          },
          "metadata": {
            "tags": [],
            "needs_background": "light"
          }
        },
        {
          "output_type": "display_data",
          "data": {
            "image/png": "[encoded data removed]",
            "text/plain": [
              "<Figure size 432x288 with 1 Axes>"
            ]
          },
          "metadata": {
            "tags": [],
            "needs_background": "light"
          }
        },
        {
          "output_type": "display_data",
          "data": {
            "image/png": "[encoded data removed]",
            "text/plain": [
              "<Figure size 432x288 with 1 Axes>"
            ]
          },
          "metadata": {
            "tags": [],
            "needs_background": "light"
          }
        }
      ]
    },
    {
      "cell_type": "code",
      "metadata": {
        "colab": {
          "base_uri": "https://localhost:8080/"
        },
        "id": "EcTTZkQAm_XD",
        "outputId": "a8b10b10-8233-4125-dc56-24a70bf11259"
      },
      "source": [
        "#Score Analysis\r\n",
        "from sklearn import metrics \r\n",
        "print('Mean Absolute Error:', \r\n",
        "      metrics.mean_absolute_error(y_test, y_pred)) \r\n",
        "print('R2 Score:', \r\n",
        "      metrics.r2_score(y_test, y_pred)) "
      ],
      "execution_count": 7,
      "outputs": [
        {
          "output_type": "stream",
          "text": [
            "Mean Absolute Error: 4.183859899002982\n",
            "R2 Score: 0.9454906892105354\n"
          ],
          "name": "stdout"
        }
      ]
    },
    {
      "cell_type": "markdown",
      "metadata": {
        "id": "bTktagnIYALY"
      },
      "source": [
        "\r\n",
        "Resultant prediction of the the given input(9.25 hours per day) is **93.69173249**\r\n",
        "\r\n",
        "*By Sarvesh Pai*"
      ]
    }
  ]
}